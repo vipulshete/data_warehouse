{
 "cells": [
  {
   "cell_type": "code",
   "execution_count": null,
   "metadata": {},
   "outputs": [],
   "source": []
  },
  {
   "cell_type": "code",
   "execution_count": 1,
   "metadata": {},
   "outputs": [],
   "source": [
    "import mysql.connector"
   ]
  },
  {
   "cell_type": "code",
   "execution_count": 2,
   "metadata": {},
   "outputs": [],
   "source": [
    "def excecute_quary(quary):\n",
    "    \"\"\"\n",
    "        Description:\n",
    "            To connect database and excecute sql quary.\n",
    "        Parameter:\n",
    "            quary: sql quary\n",
    "        Return: \n",
    "            none \n",
    "    \"\"\"\n",
    "    try:\n",
    "        db_connection = mysql.connector.connect(\n",
    "        host=\"localhost\",\n",
    "        user=\"root\",\n",
    "        passwd=\"Vaibhav@123\",\n",
    "        database=\"sakila\")\n",
    "        db_cursor = db_connection.cursor()\n",
    "        db_cursor.execute(quary)\n",
    "        \n",
    "    except Exception as e:\n",
    "        print(\"Other problems check\", e)\n",
    "\n",
    "def insert_excecute_quary(quary):\n",
    "    \"\"\"\n",
    "        Description:\n",
    "            To connect database and excecute sql quary for insert the data.\n",
    "        Parameter:\n",
    "            quary: sql quary \n",
    "            row: records that save in table\n",
    "        Return: \n",
    "            none \n",
    "    \"\"\"\n",
    "    try:\n",
    "        db_connection = mysql.connector.connect(\n",
    "        host=\"localhost\",\n",
    "        user=\"root\",\n",
    "        passwd=\"Vaibhav@123\",\n",
    "        database=\"sakila\")\n",
    "        db_cursor = db_connection.cursor()\n",
    "        db_cursor.execute(quary)\n",
    "        db_connection.commit()\n",
    "        \n",
    "    except Exception as e:\n",
    "        print(\"Other problems check\", e)\n",
    "\n",
    "def read_quary(quary):\n",
    "    \"\"\"\n",
    "        Description:\n",
    "            To connect database and read sql quary.\n",
    "        Parameter:\n",
    "            quary: sql quary\n",
    "        Return: \n",
    "            result of quary \n",
    "    \"\"\"\n",
    "    try:\n",
    "        db_connection = mysql.connector.connect(\n",
    "        host=\"localhost\",\n",
    "        user=\"root\",\n",
    "        passwd=\"Vaibhav@123\",\n",
    "        database=\"sakila\")\n",
    "        db_cursor = db_connection.cursor()\n",
    "        db_cursor.execute(quary)\n",
    "        result = db_cursor.fetchall()\n",
    "        return result\n",
    "    except Exception as e:\n",
    "        print(\"Other problems check\", e)"
   ]
  },
  {
   "cell_type": "code",
   "execution_count": 4,
   "metadata": {},
   "outputs": [
    {
     "name": "stdout",
     "output_type": "stream",
     "text": [
      "[('actor',), ('actor_info',), ('address',), ('category',), ('city',), ('country',), ('customer',), ('customer_list',), ('film',), ('film_actor',), ('film_category',), ('film_list',), ('film_text',), ('inventory',), ('language',), ('nicer_but_slower_film_list',), ('payment',), ('rental',), ('sales_by_film_category',), ('sales_by_store',), ('staff',), ('staff_list',), ('store',)]\n"
     ]
    }
   ],
   "source": [
    "query = '''show tables''' \n",
    "print(read_quary(query))"
   ]
  },
  {
   "cell_type": "code",
   "execution_count": 5,
   "metadata": {},
   "outputs": [
    {
     "name": "stdout",
     "output_type": "stream",
     "text": [
      "[(1, 'PENELOPE', 'GUINESS', datetime.datetime(2006, 2, 15, 4, 34, 33)), (2, 'NICK', 'WAHLBERG', datetime.datetime(2006, 2, 15, 4, 34, 33)), (3, 'ED', 'CHASE', datetime.datetime(2006, 2, 15, 4, 34, 33)), (4, 'JENNIFER', 'DAVIS', datetime.datetime(2006, 2, 15, 4, 34, 33)), (5, 'JOHNNY', 'LOLLOBRIGIDA', datetime.datetime(2006, 2, 15, 4, 34, 33)), (6, 'BETTE', 'NICHOLSON', datetime.datetime(2006, 2, 15, 4, 34, 33)), (7, 'GRACE', 'MOSTEL', datetime.datetime(2006, 2, 15, 4, 34, 33)), (8, 'MATTHEW', 'JOHANSSON', datetime.datetime(2006, 2, 15, 4, 34, 33)), (9, 'JOE', 'SWANK', datetime.datetime(2006, 2, 15, 4, 34, 33)), (10, 'CHRISTIAN', 'GABLE', datetime.datetime(2006, 2, 15, 4, 34, 33))]\n"
     ]
    }
   ],
   "source": [
    "query = '''select * from actor limit 10''' \n",
    "print(read_quary(query))"
   ]
  },
  {
   "attachments": {},
   "cell_type": "markdown",
   "metadata": {},
   "source": [
    "## dim_date table"
   ]
  },
  {
   "cell_type": "code",
   "execution_count": 45,
   "metadata": {},
   "outputs": [],
   "source": [
    "create_table_dim_date = '''Create table if not exists dim_date(\n",
    "    date_key datetime,\n",
    "    date date,\n",
    "    year int,\n",
    "    quarter int,\n",
    "    month int,\n",
    "    week int,\n",
    "    day int)'''"
   ]
  },
  {
   "cell_type": "code",
   "execution_count": 44,
   "metadata": {},
   "outputs": [],
   "source": [
    "# drop_query = '''drop table dim_date'''\n",
    "# excecute_quary(drop_query)"
   ]
  },
  {
   "cell_type": "code",
   "execution_count": 46,
   "metadata": {},
   "outputs": [],
   "source": [
    "excecute_quary(create_table_dim_date)"
   ]
  },
  {
   "cell_type": "code",
   "execution_count": 51,
   "metadata": {},
   "outputs": [
    {
     "name": "stdout",
     "output_type": "stream",
     "text": [
      "[('payment_id', b'smallint unsigned', 'NO', 'PRI', None, 'auto_increment'), ('customer_id', b'smallint unsigned', 'NO', 'MUL', None, ''), ('staff_id', b'tinyint unsigned', 'NO', 'MUL', None, ''), ('rental_id', b'int', 'YES', 'MUL', None, ''), ('amount', b'decimal(5,2)', 'NO', '', None, ''), ('payment_date', b'datetime', 'NO', '', None, ''), ('last_update', b'timestamp', 'YES', '', b'CURRENT_TIMESTAMP', 'DEFAULT_GENERATED on update CURRENT_TIMESTAMP')]\n"
     ]
    }
   ],
   "source": [
    "query = '''show columns from payment '''\n",
    "print(read_quary(query))"
   ]
  },
  {
   "cell_type": "code",
   "execution_count": 52,
   "metadata": {},
   "outputs": [
    {
     "name": "stdout",
     "output_type": "stream",
     "text": [
      "[(1, 1, 1, 76, Decimal('2.99'), datetime.datetime(2005, 5, 25, 11, 30, 37), datetime.datetime(2006, 2, 15, 22, 12, 30)), (2, 1, 1, 573, Decimal('0.99'), datetime.datetime(2005, 5, 28, 10, 35, 23), datetime.datetime(2006, 2, 15, 22, 12, 30)), (3, 1, 1, 1185, Decimal('5.99'), datetime.datetime(2005, 6, 15, 0, 54, 12), datetime.datetime(2006, 2, 15, 22, 12, 30)), (4, 1, 2, 1422, Decimal('0.99'), datetime.datetime(2005, 6, 15, 18, 2, 53), datetime.datetime(2006, 2, 15, 22, 12, 30)), (5, 1, 2, 1476, Decimal('9.99'), datetime.datetime(2005, 6, 15, 21, 8, 46), datetime.datetime(2006, 2, 15, 22, 12, 30)), (6, 1, 1, 1725, Decimal('4.99'), datetime.datetime(2005, 6, 16, 15, 18, 57), datetime.datetime(2006, 2, 15, 22, 12, 30)), (7, 1, 1, 2308, Decimal('4.99'), datetime.datetime(2005, 6, 18, 8, 41, 48), datetime.datetime(2006, 2, 15, 22, 12, 30)), (8, 1, 2, 2363, Decimal('0.99'), datetime.datetime(2005, 6, 18, 13, 33, 59), datetime.datetime(2006, 2, 15, 22, 12, 30)), (9, 1, 1, 3284, Decimal('3.99'), datetime.datetime(2005, 6, 21, 6, 24, 45), datetime.datetime(2006, 2, 15, 22, 12, 30)), (10, 1, 2, 4526, Decimal('5.99'), datetime.datetime(2005, 7, 8, 3, 17, 5), datetime.datetime(2006, 2, 15, 22, 12, 30))]\n"
     ]
    }
   ],
   "source": [
    "query = '''select * from payment limit 10 '''\n",
    "print(read_quary(query))"
   ]
  },
  {
   "cell_type": "code",
   "execution_count": 43,
   "metadata": {},
   "outputs": [
    {
     "name": "stdout",
     "output_type": "stream",
     "text": [
      "[(datetime.datetime(2005, 5, 25, 11, 30, 37), datetime.date(2005, 5, 25), 2005, 2, 5, 21, 25), (datetime.datetime(2005, 5, 28, 10, 35, 23), datetime.date(2005, 5, 28), 2005, 2, 5, 21, 28), (datetime.datetime(2005, 6, 15, 0, 54, 12), datetime.date(2005, 6, 15), 2005, 2, 6, 24, 15), (datetime.datetime(2005, 6, 15, 18, 2, 53), datetime.date(2005, 6, 15), 2005, 2, 6, 24, 15), (datetime.datetime(2005, 6, 15, 21, 8, 46), datetime.date(2005, 6, 15), 2005, 2, 6, 24, 15)]\n"
     ]
    }
   ],
   "source": [
    "## view insert data to dim_date table\n",
    "\n",
    "query = '''select payment_date as date_key,\n",
    "date(payment_date) as date,\n",
    "EXTRACT(year FROM payment.payment_date) as year,\n",
    "EXTRACT(quarter FROM payment.payment_date) as quarter,\n",
    "EXTRACT(month FROM payment.payment_date) as month,\n",
    "EXTRACT(week FROM payment.payment_date) as week,\n",
    "EXTRACT(day FROM payment.payment_date) as day\n",
    "from payment limit 5;'''\n",
    "print(read_quary(query))"
   ]
  },
  {
   "cell_type": "code",
   "execution_count": 47,
   "metadata": {},
   "outputs": [],
   "source": [
    "## insert data to dim_date table\n",
    "\n",
    "query = '''insert into dim_date (date_key, date, year, quarter, month, week, day)\n",
    "select payment_date as date_key,\n",
    "date(payment_date) as date,\n",
    "EXTRACT(year FROM payment.payment_date) as year,\n",
    "EXTRACT(quarter FROM payment.payment_date) as quarter,\n",
    "EXTRACT(month FROM payment.payment_date) as month,\n",
    "EXTRACT(week FROM payment.payment_date) as week,\n",
    "EXTRACT(day FROM payment.payment_date) as day\n",
    "from payment;'''"
   ]
  },
  {
   "cell_type": "code",
   "execution_count": 48,
   "metadata": {},
   "outputs": [],
   "source": [
    "insert_excecute_quary(query)"
   ]
  },
  {
   "cell_type": "code",
   "execution_count": 49,
   "metadata": {},
   "outputs": [
    {
     "name": "stdout",
     "output_type": "stream",
     "text": [
      "[(datetime.datetime(2005, 5, 25, 11, 30, 37), datetime.date(2005, 5, 25), 2005, 2, 5, 21, 25), (datetime.datetime(2005, 5, 28, 10, 35, 23), datetime.date(2005, 5, 28), 2005, 2, 5, 21, 28), (datetime.datetime(2005, 6, 15, 0, 54, 12), datetime.date(2005, 6, 15), 2005, 2, 6, 24, 15), (datetime.datetime(2005, 6, 15, 18, 2, 53), datetime.date(2005, 6, 15), 2005, 2, 6, 24, 15), (datetime.datetime(2005, 6, 15, 21, 8, 46), datetime.date(2005, 6, 15), 2005, 2, 6, 24, 15), (datetime.datetime(2005, 6, 16, 15, 18, 57), datetime.date(2005, 6, 16), 2005, 2, 6, 24, 16), (datetime.datetime(2005, 6, 18, 8, 41, 48), datetime.date(2005, 6, 18), 2005, 2, 6, 24, 18), (datetime.datetime(2005, 6, 18, 13, 33, 59), datetime.date(2005, 6, 18), 2005, 2, 6, 24, 18), (datetime.datetime(2005, 6, 21, 6, 24, 45), datetime.date(2005, 6, 21), 2005, 2, 6, 25, 21), (datetime.datetime(2005, 7, 8, 3, 17, 5), datetime.date(2005, 7, 8), 2005, 3, 7, 27, 8)]\n"
     ]
    }
   ],
   "source": [
    "query_one = '''select * from dim_date limit 10'''\n",
    "print(read_quary(query_one))"
   ]
  },
  {
   "attachments": {},
   "cell_type": "markdown",
   "metadata": {},
   "source": [
    "## dim_customer"
   ]
  },
  {
   "cell_type": "code",
   "execution_count": 66,
   "metadata": {},
   "outputs": [],
   "source": [
    "create_table_dim_customers = '''Create table if not exists dim_customer(\n",
    "    customer_key int,\n",
    "    first_name varchar(255),\n",
    "    last_name varchar(255),\n",
    "    email varchar(255),\n",
    "    address varchar(255),\n",
    "    district varchar(255),\n",
    "    city varchar(255),\n",
    "    postal_code varchar(255),\n",
    "    PRIMARY KEY (customer_key))'''"
   ]
  },
  {
   "cell_type": "code",
   "execution_count": 67,
   "metadata": {},
   "outputs": [],
   "source": [
    "excecute_quary(create_table_dim_customers)"
   ]
  },
  {
   "cell_type": "code",
   "execution_count": 53,
   "metadata": {},
   "outputs": [
    {
     "name": "stdout",
     "output_type": "stream",
     "text": [
      "[('customer_id', b'smallint unsigned', 'NO', 'PRI', None, 'auto_increment'), ('store_id', b'tinyint unsigned', 'NO', 'MUL', None, ''), ('first_name', b'varchar(45)', 'NO', '', None, ''), ('last_name', b'varchar(45)', 'NO', 'MUL', None, ''), ('email', b'varchar(50)', 'YES', '', None, ''), ('address_id', b'smallint unsigned', 'NO', 'MUL', None, ''), ('active', b'tinyint(1)', 'NO', '', b'1', ''), ('create_date', b'datetime', 'NO', '', None, ''), ('last_update', b'timestamp', 'YES', '', b'CURRENT_TIMESTAMP', 'DEFAULT_GENERATED on update CURRENT_TIMESTAMP')]\n"
     ]
    }
   ],
   "source": [
    "query = '''show columns from customer '''\n",
    "print(read_quary(query))"
   ]
  },
  {
   "cell_type": "code",
   "execution_count": 61,
   "metadata": {},
   "outputs": [
    {
     "name": "stdout",
     "output_type": "stream",
     "text": [
      "[(1, 1, 'MARY', 'SMITH', 'MARY.SMITH@sakilacustomer.org', 5, 1, datetime.datetime(2006, 2, 14, 22, 4, 36), datetime.datetime(2006, 2, 15, 4, 57, 20)), (2, 1, 'PATRICIA', 'JOHNSON', 'PATRICIA.JOHNSON@sakilacustomer.org', 6, 1, datetime.datetime(2006, 2, 14, 22, 4, 36), datetime.datetime(2006, 2, 15, 4, 57, 20))]\n"
     ]
    }
   ],
   "source": [
    "query = '''select * from customer limit 2'''\n",
    "print(read_quary(query))"
   ]
  },
  {
   "cell_type": "code",
   "execution_count": 55,
   "metadata": {},
   "outputs": [
    {
     "name": "stdout",
     "output_type": "stream",
     "text": [
      "[('address_id', b'smallint unsigned', 'NO', 'PRI', None, 'auto_increment'), ('address', b'varchar(50)', 'NO', '', None, ''), ('address2', b'varchar(50)', 'YES', '', None, ''), ('district', b'varchar(20)', 'NO', '', None, ''), ('city_id', b'smallint unsigned', 'NO', 'MUL', None, ''), ('postal_code', b'varchar(10)', 'YES', '', None, ''), ('phone', b'varchar(20)', 'NO', '', None, ''), ('location', b'geometry', 'NO', 'MUL', None, ''), ('last_update', b'timestamp', 'NO', '', b'CURRENT_TIMESTAMP', 'DEFAULT_GENERATED on update CURRENT_TIMESTAMP')]\n"
     ]
    }
   ],
   "source": [
    "query = '''show columns from address '''\n",
    "print(read_quary(query))"
   ]
  },
  {
   "cell_type": "code",
   "execution_count": 57,
   "metadata": {},
   "outputs": [
    {
     "name": "stdout",
     "output_type": "stream",
     "text": [
      "[(1, '47 MySakila Drive', None, 'Alberta', 300, '', '', bytearray(b'\\x00\\x00\\x00\\x00\\x01\\x01\\x00\\x00\\x00>\\n2]c4\\\\\\xc0v\\x1f\\xdb\\x8d\\x99\\xd9H@'), datetime.datetime(2014, 9, 25, 22, 30, 27)), (2, '28 MySQL Boulevard', None, 'QLD', 576, '', '', bytearray(b'\\x00\\x00\\x00\\x00\\x01\\x01\\x00\\x00\\x00\\x8e\\x10\\xd4\\xdf\\x81$c@N\\xe0\\x8cP\"\\xa2;\\xc0'), datetime.datetime(2014, 9, 25, 22, 30, 9))]\n"
     ]
    }
   ],
   "source": [
    "query = '''select * from address limit 2'''\n",
    "print(read_quary(query))"
   ]
  },
  {
   "cell_type": "code",
   "execution_count": 58,
   "metadata": {},
   "outputs": [
    {
     "name": "stdout",
     "output_type": "stream",
     "text": [
      "[('city_id', b'smallint unsigned', 'NO', 'PRI', None, 'auto_increment'), ('city', b'varchar(50)', 'NO', '', None, ''), ('country_id', b'smallint unsigned', 'NO', 'MUL', None, ''), ('last_update', b'timestamp', 'NO', '', b'CURRENT_TIMESTAMP', 'DEFAULT_GENERATED on update CURRENT_TIMESTAMP')]\n"
     ]
    }
   ],
   "source": [
    "query = '''show columns from city '''\n",
    "print(read_quary(query))"
   ]
  },
  {
   "cell_type": "code",
   "execution_count": 59,
   "metadata": {},
   "outputs": [
    {
     "name": "stdout",
     "output_type": "stream",
     "text": [
      "[(1, 'A Coruña (La Coruña)', 87, datetime.datetime(2006, 2, 15, 4, 45, 25)), (2, 'Abha', 82, datetime.datetime(2006, 2, 15, 4, 45, 25))]\n"
     ]
    }
   ],
   "source": [
    "query = '''select * from city limit 2'''\n",
    "print(read_quary(query))"
   ]
  },
  {
   "cell_type": "code",
   "execution_count": 63,
   "metadata": {},
   "outputs": [],
   "source": [
    "## view data to insert\n",
    "\n",
    "query_view = '''select customer.customer_id as customer_key,\n",
    "customer.first_name,\n",
    "customer.last_name,\n",
    "customer.email,\n",
    "address.address,\n",
    "address.district,\n",
    "city.city,\n",
    "address.postal_code\n",
    "from customer \n",
    "join address on (customer.address_id = address.address_id)\n",
    "join city on (address.city_id = city.city_id);'''\n",
    "\n",
    "# print(read_quary(query_view)) "
   ]
  },
  {
   "cell_type": "code",
   "execution_count": 69,
   "metadata": {},
   "outputs": [],
   "source": [
    "## load data to dim_customer\n",
    "\n",
    "query_load_customer = '''insert into dim_customer(customer_key, first_name, last_name, email, address, district, city, postal_code)\n",
    "\n",
    "select customer.customer_id as customer_key,\n",
    "customer.first_name,\n",
    "customer.last_name,\n",
    "customer.email,\n",
    "address.address,\n",
    "address.district,\n",
    "city.city,\n",
    "address.postal_code\n",
    "from customer \n",
    "join address on (customer.address_id = address.address_id)\n",
    "join city on (address.city_id = city.city_id);'''"
   ]
  },
  {
   "cell_type": "code",
   "execution_count": 70,
   "metadata": {},
   "outputs": [],
   "source": [
    "insert_excecute_quary(query_load_customer)"
   ]
  },
  {
   "cell_type": "code",
   "execution_count": 71,
   "metadata": {},
   "outputs": [
    {
     "name": "stdout",
     "output_type": "stream",
     "text": [
      "[(1, 'MARY', 'SMITH', 'MARY.SMITH@sakilacustomer.org', '1913 Hanoi Way', 'Nagasaki', 'Sasebo', '35200'), (2, 'PATRICIA', 'JOHNSON', 'PATRICIA.JOHNSON@sakilacustomer.org', '1121 Loja Avenue', 'California', 'San Bernardino', '17886'), (3, 'LINDA', 'WILLIAMS', 'LINDA.WILLIAMS@sakilacustomer.org', '692 Joliet Street', 'Attika', 'Athenai', '83579'), (4, 'BARBARA', 'JONES', 'BARBARA.JONES@sakilacustomer.org', '1566 Inegl Manor', 'Mandalay', 'Myingyan', '53561'), (5, 'ELIZABETH', 'BROWN', 'ELIZABETH.BROWN@sakilacustomer.org', '53 Idfu Parkway', 'Nantou', 'Nantou', '42399'), (6, 'JENNIFER', 'DAVIS', 'JENNIFER.DAVIS@sakilacustomer.org', '1795 Santiago de Compostela Way', 'Texas', 'Laredo', '18743'), (7, 'MARIA', 'MILLER', 'MARIA.MILLER@sakilacustomer.org', '900 Santiago de Compostela Parkway', 'Central Serbia', 'Kragujevac', '93896'), (8, 'SUSAN', 'WILSON', 'SUSAN.WILSON@sakilacustomer.org', '478 Joliet Way', 'Hamilton', 'Hamilton', '77948'), (9, 'MARGARET', 'MOORE', 'MARGARET.MOORE@sakilacustomer.org', '613 Korolev Drive', 'Masqat', 'Masqat', '45844'), (10, 'DOROTHY', 'TAYLOR', 'DOROTHY.TAYLOR@sakilacustomer.org', '1531 Sal Drive', 'Esfahan', 'Esfahan', '53628')]\n"
     ]
    }
   ],
   "source": [
    "query_one = '''select * from dim_customer limit 10'''\n",
    "print(read_quary(query_one))"
   ]
  },
  {
   "attachments": {},
   "cell_type": "markdown",
   "metadata": {},
   "source": [
    "## dim_store"
   ]
  },
  {
   "cell_type": "code",
   "execution_count": 87,
   "metadata": {},
   "outputs": [],
   "source": [
    "create_table_dim_store = '''Create table if not exists dim_store(\n",
    "    store_key int,\n",
    "    manager_staff_id int,\n",
    "    staf_first_name varchar(255),\n",
    "    staf_last_name varchar(255),\n",
    "    email varchar(255),\n",
    "    address_id int,\n",
    "    PRIMARY KEY (store_key))'''"
   ]
  },
  {
   "cell_type": "code",
   "execution_count": 88,
   "metadata": {},
   "outputs": [],
   "source": [
    "excecute_quary(create_table_dim_store)"
   ]
  },
  {
   "cell_type": "code",
   "execution_count": 72,
   "metadata": {},
   "outputs": [
    {
     "name": "stdout",
     "output_type": "stream",
     "text": [
      "[('store_id', b'tinyint unsigned', 'NO', 'PRI', None, 'auto_increment'), ('manager_staff_id', b'tinyint unsigned', 'NO', 'UNI', None, ''), ('address_id', b'smallint unsigned', 'NO', 'MUL', None, ''), ('last_update', b'timestamp', 'NO', '', b'CURRENT_TIMESTAMP', 'DEFAULT_GENERATED on update CURRENT_TIMESTAMP')]\n"
     ]
    }
   ],
   "source": [
    "query = '''show columns from store '''\n",
    "print(read_quary(query))"
   ]
  },
  {
   "cell_type": "code",
   "execution_count": 73,
   "metadata": {},
   "outputs": [
    {
     "name": "stdout",
     "output_type": "stream",
     "text": [
      "[(1, 1, 1, datetime.datetime(2006, 2, 15, 4, 57, 12)), (2, 2, 2, datetime.datetime(2006, 2, 15, 4, 57, 12))]\n"
     ]
    }
   ],
   "source": [
    "query = '''select * from store limit 2'''\n",
    "print(read_quary(query))"
   ]
  },
  {
   "cell_type": "code",
   "execution_count": 82,
   "metadata": {},
   "outputs": [
    {
     "name": "stdout",
     "output_type": "stream",
     "text": [
      "[('staff_id', b'tinyint unsigned', 'NO', 'PRI', None, 'auto_increment'), ('first_name', b'varchar(45)', 'NO', '', None, ''), ('last_name', b'varchar(45)', 'NO', '', None, ''), ('address_id', b'smallint unsigned', 'NO', 'MUL', None, ''), ('picture', b'blob', 'YES', '', None, ''), ('email', b'varchar(50)', 'YES', '', None, ''), ('store_id', b'tinyint unsigned', 'NO', 'MUL', None, ''), ('active', b'tinyint(1)', 'NO', '', b'1', ''), ('username', b'varchar(16)', 'NO', '', None, ''), ('password', b'varchar(40)', 'YES', '', None, ''), ('last_update', b'timestamp', 'NO', '', b'CURRENT_TIMESTAMP', 'DEFAULT_GENERATED on update CURRENT_TIMESTAMP')]\n"
     ]
    }
   ],
   "source": [
    "query = '''show columns from staff'''\n",
    "print(read_quary(query))"
   ]
  },
  {
   "cell_type": "code",
   "execution_count": 84,
   "metadata": {},
   "outputs": [],
   "source": [
    "# query = '''select * from staff limit 1'''\n",
    "# print(read_quary(query))"
   ]
  },
  {
   "cell_type": "code",
   "execution_count": 86,
   "metadata": {},
   "outputs": [
    {
     "name": "stdout",
     "output_type": "stream",
     "text": [
      "[(1, 1, 'Mike', 'Hillyer', 'Mike.Hillyer@sakilastaff.com', 3), (2, 2, 'Jon', 'Stephens', 'Jon.Stephens@sakilastaff.com', 4)]\n"
     ]
    }
   ],
   "source": [
    "query = '''select store.store_id as store_key,\n",
    "store.manager_staff_id,\n",
    "staff.first_name,\n",
    "staff.last_name,\n",
    "staff.email,\n",
    "staff.address_id\n",
    "from staff\n",
    "join store on (store.store_id = staff.store_id);'''\n",
    "print(read_quary(query))"
   ]
  },
  {
   "cell_type": "code",
   "execution_count": 89,
   "metadata": {},
   "outputs": [],
   "source": [
    "query_load_store = '''insert into dim_store(store_key, manager_staff_id, staf_first_name, staf_last_name, email, address_id)\n",
    "select store.store_id as store_key,\n",
    "store.manager_staff_id,\n",
    "staff.first_name,\n",
    "staff.last_name,\n",
    "staff.email,\n",
    "staff.address_id\n",
    "from staff\n",
    "join store on (store.store_id = staff.store_id);'''\n",
    "\n",
    "insert_excecute_quary(query_load_store)"
   ]
  },
  {
   "cell_type": "code",
   "execution_count": 90,
   "metadata": {},
   "outputs": [
    {
     "name": "stdout",
     "output_type": "stream",
     "text": [
      "[(1, 1, 'Mike', 'Hillyer', 'Mike.Hillyer@sakilastaff.com', 3), (2, 2, 'Jon', 'Stephens', 'Jon.Stephens@sakilastaff.com', 4)]\n"
     ]
    }
   ],
   "source": [
    "query_one = '''select * from dim_store limit 10'''\n",
    "print(read_quary(query_one))"
   ]
  },
  {
   "attachments": {},
   "cell_type": "markdown",
   "metadata": {},
   "source": [
    "## dim_movie"
   ]
  },
  {
   "cell_type": "code",
   "execution_count": null,
   "metadata": {},
   "outputs": [],
   "source": [
    "create_table_dim_movie = '''Create table if not exists dim_movie(\n",
    "    movie_key int,\n",
    "    flim_id int,\n",
    "    title varchar(255),\n",
    "    description int,\n",
    "    release_date int,\n",
    "    language varchar(255),\n",
    "    original_language varchar(255),\n",
    "    length int,\n",
    "    rating int,\n",
    "    special_features varchar(255),\n",
    "    PRIMARY KEY (movie_key))'''"
   ]
  },
  {
   "attachments": {},
   "cell_type": "markdown",
   "metadata": {},
   "source": [
    "## fact_sales"
   ]
  },
  {
   "cell_type": "code",
   "execution_count": null,
   "metadata": {},
   "outputs": [],
   "source": [
    "create_table_fact_sales = '''Create table if not exists fact_sales(\n",
    "    sales_key int,\n",
    "    date_key int,\n",
    "    customer_key int,\n",
    "    movie_key int,\n",
    "    store_key int,\n",
    "    sales_amount int,\n",
    "    PRIMARY KEY (sales_key))'''\n",
    "\n",
    "create_table_fact_sales = '''Create table if not exists fact_sales(\n",
    "    sales_key int,\n",
    "    date_key int ,\n",
    "    customer_key int,\n",
    "    movie_key int,\n",
    "    store_key int,\n",
    "    sales_amount int,\n",
    "    PRIMARY KEY (sales_key))'''    "
   ]
  },
  {
   "cell_type": "code",
   "execution_count": null,
   "metadata": {},
   "outputs": [],
   "source": []
  },
  {
   "cell_type": "code",
   "execution_count": null,
   "metadata": {},
   "outputs": [],
   "source": []
  },
  {
   "cell_type": "code",
   "execution_count": null,
   "metadata": {},
   "outputs": [],
   "source": []
  },
  {
   "cell_type": "code",
   "execution_count": null,
   "metadata": {},
   "outputs": [],
   "source": []
  }
 ],
 "metadata": {
  "kernelspec": {
   "display_name": "Python 3",
   "language": "python",
   "name": "python3"
  },
  "language_info": {
   "codemirror_mode": {
    "name": "ipython",
    "version": 3
   },
   "file_extension": ".py",
   "mimetype": "text/x-python",
   "name": "python",
   "nbconvert_exporter": "python",
   "pygments_lexer": "ipython3",
   "version": "3.8.10"
  },
  "orig_nbformat": 4,
  "vscode": {
   "interpreter": {
    "hash": "e7370f93d1d0cde622a1f8e1c04877d8463912d04d973331ad4851f04de6915a"
   }
  }
 },
 "nbformat": 4,
 "nbformat_minor": 2
}
