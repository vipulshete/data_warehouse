{
 "cells": [
  {
   "cell_type": "code",
   "execution_count": 1,
   "metadata": {},
   "outputs": [
    {
     "data": {
      "text/plain": [
       "'\\n    @Author: Vipul Shete\\n    @Date: 2022-12-14\\n    @Last Modified by: Vipul Shete\\n    @Last Modified Date: 2022-12-14\\n    @Title : Data modeling with wealth dataset.\\n'"
      ]
     },
     "execution_count": 1,
     "metadata": {},
     "output_type": "execute_result"
    }
   ],
   "source": [
    "\"\"\"\n",
    "    @Author: Vipul Shete\n",
    "    @Date: 2022-12-14\n",
    "    @Last Modified by: Vipul Shete\n",
    "    @Last Modified Date: 2022-12-14\n",
    "    @Title : Data modeling with wealth dataset.\n",
    "\"\"\""
   ]
  },
  {
   "cell_type": "code",
   "execution_count": 1,
   "metadata": {},
   "outputs": [],
   "source": [
    "import mysql.connector\n",
    "import pandas as pd"
   ]
  },
  {
   "cell_type": "code",
   "execution_count": 2,
   "metadata": {},
   "outputs": [],
   "source": [
    "def excecute_quary(quary):\n",
    "    \"\"\"\n",
    "        Description:\n",
    "            To connect database and excecute sql quary.\n",
    "        Parameter:\n",
    "            quary: sql quary\n",
    "        Return: \n",
    "            none \n",
    "    \"\"\"\n",
    "    try:\n",
    "        db_connection = mysql.connector.connect(\n",
    "        host=\"localhost\",\n",
    "        user=\"root\",\n",
    "        passwd=\"Vaibhav@123\",\n",
    "        database=\"starschema\")\n",
    "        db_cursor = db_connection.cursor()\n",
    "        db_cursor.execute(quary)\n",
    "        \n",
    "    except Exception as e:\n",
    "        print(\"Other problems check\", e)\n",
    "\n",
    "def insert_excecute_quary(quary, row):\n",
    "    \"\"\"\n",
    "        Description:\n",
    "            To connect database and excecute sql quary for insert the data.\n",
    "        Parameter:\n",
    "            quary: sql quary \n",
    "            row: records that save in table\n",
    "        Return: \n",
    "            none \n",
    "    \"\"\"\n",
    "    try:\n",
    "        db_connection = mysql.connector.connect(\n",
    "        host=\"localhost\",\n",
    "        user=\"root\",\n",
    "        passwd=\"Vaibhav@123\",\n",
    "        database=\"starschema\")\n",
    "        db_cursor = db_connection.cursor()\n",
    "        db_cursor.execute(quary, row)\n",
    "        db_connection.commit()\n",
    "        \n",
    "    except Exception as e:\n",
    "        print(\"Other problems check\", e)\n",
    "\n",
    "def read_quary(quary):\n",
    "    \"\"\"\n",
    "        Description:\n",
    "            To connect database and read sql quary.\n",
    "        Parameter:\n",
    "            quary: sql quary\n",
    "        Return: \n",
    "            result of quary \n",
    "    \"\"\"\n",
    "    try:\n",
    "        db_connection = mysql.connector.connect(\n",
    "        host=\"localhost\",\n",
    "        user=\"root\",\n",
    "        passwd=\"Vaibhav@123\",\n",
    "        database=\"starschema\")\n",
    "        db_cursor = db_connection.cursor()\n",
    "        db_cursor.execute(quary)\n",
    "        result = db_cursor.fetchall()\n",
    "        return result\n",
    "    except Exception as e:\n",
    "        print(\"Other problems check\", e)"
   ]
  },
  {
   "cell_type": "code",
   "execution_count": 3,
   "metadata": {},
   "outputs": [
    {
     "name": "stdout",
     "output_type": "stream",
     "text": [
      "[('student_details',), ('student_info',)]\n"
     ]
    }
   ],
   "source": [
    "quary = '''show tables;'''\n",
    "print(read_quary(quary))"
   ]
  },
  {
   "attachments": {},
   "cell_type": "markdown",
   "metadata": {},
   "source": [
    "## select attributes "
   ]
  },
  {
   "attachments": {},
   "cell_type": "markdown",
   "metadata": {},
   "source": [
    "## account_country"
   ]
  },
  {
   "cell_type": "code",
   "execution_count": 27,
   "metadata": {},
   "outputs": [],
   "source": [
    "account_country = pd.read_csv(\"wealth-accountCountry.csv\", encoding='latin-1')\n",
    "account_country_dataframe = pd.DataFrame(account_country)"
   ]
  },
  {
   "cell_type": "code",
   "execution_count": 28,
   "metadata": {},
   "outputs": [
    {
     "data": {
      "text/html": [
       "<div>\n",
       "<style scoped>\n",
       "    .dataframe tbody tr th:only-of-type {\n",
       "        vertical-align: middle;\n",
       "    }\n",
       "\n",
       "    .dataframe tbody tr th {\n",
       "        vertical-align: top;\n",
       "    }\n",
       "\n",
       "    .dataframe thead th {\n",
       "        text-align: right;\n",
       "    }\n",
       "</style>\n",
       "<table border=\"1\" class=\"dataframe\">\n",
       "  <thead>\n",
       "    <tr style=\"text-align: right;\">\n",
       "      <th></th>\n",
       "      <th>Code</th>\n",
       "      <th>Long Name</th>\n",
       "      <th>Income Group</th>\n",
       "      <th>Region</th>\n",
       "      <th>Lending category</th>\n",
       "      <th>Other groups</th>\n",
       "      <th>Currency Unit</th>\n",
       "      <th>Latest population census</th>\n",
       "      <th>Latest household survey</th>\n",
       "      <th>Special Notes</th>\n",
       "      <th>...</th>\n",
       "      <th>Source of most recent Income and expenditure data</th>\n",
       "      <th>Vital registration complete</th>\n",
       "      <th>Latest agricultural census</th>\n",
       "      <th>Latest industrial data</th>\n",
       "      <th>Latest trade data</th>\n",
       "      <th>Latest water withdrawal data</th>\n",
       "      <th>2-alpha code</th>\n",
       "      <th>WB-2 code</th>\n",
       "      <th>Table Name</th>\n",
       "      <th>Short Name</th>\n",
       "    </tr>\n",
       "  </thead>\n",
       "  <tbody>\n",
       "    <tr>\n",
       "      <th>0</th>\n",
       "      <td>ALB</td>\n",
       "      <td>Republic of Albania</td>\n",
       "      <td>Upper middle income</td>\n",
       "      <td>Europe &amp; Central Asia</td>\n",
       "      <td>IBRD</td>\n",
       "      <td>NaN</td>\n",
       "      <td>Albanian lek</td>\n",
       "      <td>2020 (expected)</td>\n",
       "      <td>Demographic and Health Survey, 2017/18</td>\n",
       "      <td>NaN</td>\n",
       "      <td>...</td>\n",
       "      <td>Living Standards Measurement Study Survey (LSM...</td>\n",
       "      <td>Yes</td>\n",
       "      <td>2012</td>\n",
       "      <td>2013.0</td>\n",
       "      <td>2018.0</td>\n",
       "      <td>2006.0</td>\n",
       "      <td>AL</td>\n",
       "      <td>AL</td>\n",
       "      <td>Albania</td>\n",
       "      <td>Albania</td>\n",
       "    </tr>\n",
       "    <tr>\n",
       "      <th>1</th>\n",
       "      <td>ARG</td>\n",
       "      <td>Argentine Republic</td>\n",
       "      <td>Upper middle income</td>\n",
       "      <td>Latin America &amp; Caribbean</td>\n",
       "      <td>IBRD</td>\n",
       "      <td>NaN</td>\n",
       "      <td>Argentine peso</td>\n",
       "      <td>2020 (expected)</td>\n",
       "      <td>Multiple Indicator Cluster Survey, 2019/20</td>\n",
       "      <td>NaN</td>\n",
       "      <td>...</td>\n",
       "      <td>Integrated household survey (IHS), 2016</td>\n",
       "      <td>Yes</td>\n",
       "      <td>2008</td>\n",
       "      <td>2002.0</td>\n",
       "      <td>2018.0</td>\n",
       "      <td>2011.0</td>\n",
       "      <td>AR</td>\n",
       "      <td>AR</td>\n",
       "      <td>Argentina</td>\n",
       "      <td>Argentina</td>\n",
       "    </tr>\n",
       "    <tr>\n",
       "      <th>2</th>\n",
       "      <td>ARM</td>\n",
       "      <td>Republic of Armenia</td>\n",
       "      <td>Upper middle income</td>\n",
       "      <td>Europe &amp; Central Asia</td>\n",
       "      <td>IBRD</td>\n",
       "      <td>NaN</td>\n",
       "      <td>Armenian dram</td>\n",
       "      <td>2020 (expected)</td>\n",
       "      <td>Demographic and Health Survey, 2015/16</td>\n",
       "      <td>NaN</td>\n",
       "      <td>...</td>\n",
       "      <td>Integrated household survey (IHS), 2016</td>\n",
       "      <td>Yes</td>\n",
       "      <td>2014</td>\n",
       "      <td>NaN</td>\n",
       "      <td>2018.0</td>\n",
       "      <td>2012.0</td>\n",
       "      <td>AM</td>\n",
       "      <td>AM</td>\n",
       "      <td>Armenia</td>\n",
       "      <td>Armenia</td>\n",
       "    </tr>\n",
       "    <tr>\n",
       "      <th>3</th>\n",
       "      <td>AUS</td>\n",
       "      <td>Commonwealth of Australia</td>\n",
       "      <td>High income</td>\n",
       "      <td>East Asia &amp; Pacific</td>\n",
       "      <td>NaN</td>\n",
       "      <td>NaN</td>\n",
       "      <td>Australian dollar</td>\n",
       "      <td>2016</td>\n",
       "      <td>NaN</td>\n",
       "      <td>Fiscal year end: June 30; reporting period for...</td>\n",
       "      <td>...</td>\n",
       "      <td>Expenditure survey/budget survey (ES/BS), 2010</td>\n",
       "      <td>Yes</td>\n",
       "      <td>2015-2016</td>\n",
       "      <td>2013.0</td>\n",
       "      <td>2018.0</td>\n",
       "      <td>2013.0</td>\n",
       "      <td>AU</td>\n",
       "      <td>AU</td>\n",
       "      <td>Australia</td>\n",
       "      <td>Australia</td>\n",
       "    </tr>\n",
       "    <tr>\n",
       "      <th>4</th>\n",
       "      <td>AUT</td>\n",
       "      <td>Republic of Austria</td>\n",
       "      <td>High income</td>\n",
       "      <td>Europe &amp; Central Asia</td>\n",
       "      <td>NaN</td>\n",
       "      <td>Euro area</td>\n",
       "      <td>Euro</td>\n",
       "      <td>2011. Population figures compiled from adminis...</td>\n",
       "      <td>NaN</td>\n",
       "      <td>A simple multiplier is used to convert the nat...</td>\n",
       "      <td>...</td>\n",
       "      <td>Income survey (IS), 2015</td>\n",
       "      <td>Yes</td>\n",
       "      <td>2010</td>\n",
       "      <td>2014.0</td>\n",
       "      <td>2018.0</td>\n",
       "      <td>2010.0</td>\n",
       "      <td>AT</td>\n",
       "      <td>AT</td>\n",
       "      <td>Austria</td>\n",
       "      <td>Austria</td>\n",
       "    </tr>\n",
       "  </tbody>\n",
       "</table>\n",
       "<p>5 rows × 31 columns</p>\n",
       "</div>"
      ],
      "text/plain": [
       "  Code                  Long Name         Income Group  \\\n",
       "0  ALB        Republic of Albania  Upper middle income   \n",
       "1  ARG         Argentine Republic  Upper middle income   \n",
       "2  ARM        Republic of Armenia  Upper middle income   \n",
       "3  AUS  Commonwealth of Australia          High income   \n",
       "4  AUT        Republic of Austria          High income   \n",
       "\n",
       "                      Region Lending category Other groups      Currency Unit  \\\n",
       "0      Europe & Central Asia             IBRD          NaN       Albanian lek   \n",
       "1  Latin America & Caribbean             IBRD          NaN     Argentine peso   \n",
       "2      Europe & Central Asia             IBRD          NaN      Armenian dram   \n",
       "3        East Asia & Pacific              NaN          NaN  Australian dollar   \n",
       "4      Europe & Central Asia              NaN    Euro area               Euro   \n",
       "\n",
       "                            Latest population census  \\\n",
       "0                                    2020 (expected)   \n",
       "1                                    2020 (expected)   \n",
       "2                                    2020 (expected)   \n",
       "3                                               2016   \n",
       "4  2011. Population figures compiled from adminis...   \n",
       "\n",
       "                      Latest household survey  \\\n",
       "0      Demographic and Health Survey, 2017/18   \n",
       "1  Multiple Indicator Cluster Survey, 2019/20   \n",
       "2      Demographic and Health Survey, 2015/16   \n",
       "3                                         NaN   \n",
       "4                                         NaN   \n",
       "\n",
       "                                       Special Notes  ...  \\\n",
       "0                                                NaN  ...   \n",
       "1                                                NaN  ...   \n",
       "2                                                NaN  ...   \n",
       "3  Fiscal year end: June 30; reporting period for...  ...   \n",
       "4  A simple multiplier is used to convert the nat...  ...   \n",
       "\n",
       "   Source of most recent Income and expenditure data  \\\n",
       "0  Living Standards Measurement Study Survey (LSM...   \n",
       "1            Integrated household survey (IHS), 2016   \n",
       "2            Integrated household survey (IHS), 2016   \n",
       "3     Expenditure survey/budget survey (ES/BS), 2010   \n",
       "4                           Income survey (IS), 2015   \n",
       "\n",
       "   Vital registration complete Latest agricultural census  \\\n",
       "0                          Yes                       2012   \n",
       "1                          Yes                       2008   \n",
       "2                          Yes                       2014   \n",
       "3                          Yes                  2015-2016   \n",
       "4                          Yes                       2010   \n",
       "\n",
       "  Latest industrial data Latest trade data Latest water withdrawal data  \\\n",
       "0                 2013.0            2018.0                       2006.0   \n",
       "1                 2002.0            2018.0                       2011.0   \n",
       "2                    NaN            2018.0                       2012.0   \n",
       "3                 2013.0            2018.0                       2013.0   \n",
       "4                 2014.0            2018.0                       2010.0   \n",
       "\n",
       "  2-alpha code WB-2 code Table Name Short Name  \n",
       "0           AL        AL    Albania    Albania  \n",
       "1           AR        AR  Argentina  Argentina  \n",
       "2           AM        AM    Armenia    Armenia  \n",
       "3           AU        AU  Australia  Australia  \n",
       "4           AT        AT    Austria    Austria  \n",
       "\n",
       "[5 rows x 31 columns]"
      ]
     },
     "execution_count": 28,
     "metadata": {},
     "output_type": "execute_result"
    }
   ],
   "source": [
    "account_country_dataframe.head()"
   ]
  },
  {
   "cell_type": "code",
   "execution_count": 29,
   "metadata": {},
   "outputs": [
    {
     "data": {
      "text/plain": [
       "Index(['Code', 'Long Name', 'Income Group', 'Region', 'Lending category',\n",
       "       'Other groups', 'Currency Unit', 'Latest population census',\n",
       "       'Latest household survey', 'Special Notes',\n",
       "       'National accounts base year', 'National accounts reference year',\n",
       "       'System of National Accounts', 'SNA price valuation',\n",
       "       'Alternative conversion factor', 'PPP survey years',\n",
       "       'Balance of Payments Manual in use', 'External debt Reporting status',\n",
       "       'System of trade', 'Government Accounting concept',\n",
       "       'IMF data dissemination standard',\n",
       "       'Source of most recent Income and expenditure data',\n",
       "       'Vital registration complete', 'Latest agricultural census',\n",
       "       'Latest industrial data', 'Latest trade data',\n",
       "       'Latest water withdrawal data', '2-alpha code', 'WB-2 code',\n",
       "       'Table Name', 'Short Name'],\n",
       "      dtype='object')"
      ]
     },
     "execution_count": 29,
     "metadata": {},
     "output_type": "execute_result"
    }
   ],
   "source": [
    "account_country_dataframe.columns"
   ]
  },
  {
   "cell_type": "code",
   "execution_count": 30,
   "metadata": {},
   "outputs": [],
   "source": [
    "account_country_clean = account_country_dataframe[['Code', 'Short Name', 'Table Name', 'Long Name', 'Currency Unit']]"
   ]
  },
  {
   "cell_type": "code",
   "execution_count": 31,
   "metadata": {},
   "outputs": [
    {
     "data": {
      "text/html": [
       "<div>\n",
       "<style scoped>\n",
       "    .dataframe tbody tr th:only-of-type {\n",
       "        vertical-align: middle;\n",
       "    }\n",
       "\n",
       "    .dataframe tbody tr th {\n",
       "        vertical-align: top;\n",
       "    }\n",
       "\n",
       "    .dataframe thead th {\n",
       "        text-align: right;\n",
       "    }\n",
       "</style>\n",
       "<table border=\"1\" class=\"dataframe\">\n",
       "  <thead>\n",
       "    <tr style=\"text-align: right;\">\n",
       "      <th></th>\n",
       "      <th>Code</th>\n",
       "      <th>Short Name</th>\n",
       "      <th>Table Name</th>\n",
       "      <th>Long Name</th>\n",
       "      <th>Currency Unit</th>\n",
       "    </tr>\n",
       "  </thead>\n",
       "  <tbody>\n",
       "    <tr>\n",
       "      <th>0</th>\n",
       "      <td>ALB</td>\n",
       "      <td>Albania</td>\n",
       "      <td>Albania</td>\n",
       "      <td>Republic of Albania</td>\n",
       "      <td>Albanian lek</td>\n",
       "    </tr>\n",
       "    <tr>\n",
       "      <th>1</th>\n",
       "      <td>ARG</td>\n",
       "      <td>Argentina</td>\n",
       "      <td>Argentina</td>\n",
       "      <td>Argentine Republic</td>\n",
       "      <td>Argentine peso</td>\n",
       "    </tr>\n",
       "    <tr>\n",
       "      <th>2</th>\n",
       "      <td>ARM</td>\n",
       "      <td>Armenia</td>\n",
       "      <td>Armenia</td>\n",
       "      <td>Republic of Armenia</td>\n",
       "      <td>Armenian dram</td>\n",
       "    </tr>\n",
       "    <tr>\n",
       "      <th>3</th>\n",
       "      <td>AUS</td>\n",
       "      <td>Australia</td>\n",
       "      <td>Australia</td>\n",
       "      <td>Commonwealth of Australia</td>\n",
       "      <td>Australian dollar</td>\n",
       "    </tr>\n",
       "    <tr>\n",
       "      <th>4</th>\n",
       "      <td>AUT</td>\n",
       "      <td>Austria</td>\n",
       "      <td>Austria</td>\n",
       "      <td>Republic of Austria</td>\n",
       "      <td>Euro</td>\n",
       "    </tr>\n",
       "  </tbody>\n",
       "</table>\n",
       "</div>"
      ],
      "text/plain": [
       "  Code Short Name Table Name                  Long Name      Currency Unit\n",
       "0  ALB    Albania    Albania        Republic of Albania       Albanian lek\n",
       "1  ARG  Argentina  Argentina         Argentine Republic     Argentine peso\n",
       "2  ARM    Armenia    Armenia        Republic of Armenia      Armenian dram\n",
       "3  AUS  Australia  Australia  Commonwealth of Australia  Australian dollar\n",
       "4  AUT    Austria    Austria        Republic of Austria               Euro"
      ]
     },
     "execution_count": 31,
     "metadata": {},
     "output_type": "execute_result"
    }
   ],
   "source": [
    "account_country_clean.head()"
   ]
  },
  {
   "cell_type": "code",
   "execution_count": 73,
   "metadata": {},
   "outputs": [],
   "source": [
    "create_table_country = '''Create table accounts_country(\n",
    "    country_Code varchar(255),\n",
    "    Short_Name varchar(255),\n",
    "    Table_Name varchar(255),\n",
    "    Long_Name varchar(255),\n",
    "    Currency_Unit varchar(255),\n",
    "    PRIMARY KEY (country_Code))'''"
   ]
  },
  {
   "cell_type": "code",
   "execution_count": 74,
   "metadata": {},
   "outputs": [],
   "source": [
    "excecute_quary(create_table_country)"
   ]
  },
  {
   "cell_type": "code",
   "execution_count": 187,
   "metadata": {},
   "outputs": [],
   "source": [
    "## insert data in table\n",
    "insert_data_country = '''insert into accounts_country(country_Code, Short_Name, Table_Name, Long_Name, Currency_Unit) VALUES (%s, %s, %s, %s, %s)'''\n"
   ]
  },
  {
   "cell_type": "code",
   "execution_count": 130,
   "metadata": {},
   "outputs": [],
   "source": [
    "excecute_quary(insert_data_country)"
   ]
  },
  {
   "cell_type": "code",
   "execution_count": 140,
   "metadata": {},
   "outputs": [],
   "source": [
    "# for i, row in account_country_clean.iterrows():\n",
    "#     print(list(row)) "
   ]
  },
  {
   "cell_type": "code",
   "execution_count": 188,
   "metadata": {},
   "outputs": [],
   "source": [
    "for i, row in account_country_clean.iterrows():\n",
    "    insert_excecute_quary(insert_data_country, list(row)) \n"
   ]
  },
  {
   "cell_type": "code",
   "execution_count": 190,
   "metadata": {},
   "outputs": [
    {
     "name": "stdout",
     "output_type": "stream",
     "text": [
      "[('ALB', 'Albania', 'Albania', 'Republic of Albania', 'Albanian lek'), ('ARE', 'United Arab Emirates', 'United Arab Emirates', 'United Arab Emirates', 'U.A.E. dirham'), ('ARG', 'Argentina', 'Argentina', 'Argentine Republic', 'Argentine peso'), ('ARM', 'Armenia', 'Armenia', 'Republic of Armenia', 'Armenian dram'), ('AUS', 'Australia', 'Australia', 'Commonwealth of Australia', 'Australian dollar'), ('AUT', 'Austria', 'Austria', 'Republic of Austria', 'Euro'), ('AZE', 'Azerbaijan', 'Azerbaijan', 'Republic of Azerbaijan', 'New Azeri manat'), ('BDI', 'Burundi', 'Burundi', 'Republic of Burundi', 'Burundi franc'), ('BEL', 'Belgium', 'Belgium', 'Kingdom of Belgium', 'Euro'), ('BEN', 'Benin', 'Benin', 'Republic of Benin', 'West African CFA franc')]\n"
     ]
    }
   ],
   "source": [
    "show_query = '''select * from accounts_country limit 10'''\n",
    "print(read_quary(show_query))"
   ]
  },
  {
   "attachments": {},
   "cell_type": "markdown",
   "metadata": {},
   "source": [
    "## account_data"
   ]
  },
  {
   "cell_type": "code",
   "execution_count": 225,
   "metadata": {},
   "outputs": [],
   "source": [
    "account_data = pd.read_csv(\"wealth-accountData.csv\", encoding='latin-1')\n",
    "account_data_dataframe = pd.DataFrame(account_data)\n"
   ]
  },
  {
   "cell_type": "code",
   "execution_count": 226,
   "metadata": {},
   "outputs": [],
   "source": [
    "account_data_rename_column = account_data_dataframe.rename(columns={'ï»¿Series Name': 'Indicator Name'})"
   ]
  },
  {
   "cell_type": "code",
   "execution_count": 227,
   "metadata": {},
   "outputs": [
    {
     "data": {
      "text/html": [
       "<div>\n",
       "<style scoped>\n",
       "    .dataframe tbody tr th:only-of-type {\n",
       "        vertical-align: middle;\n",
       "    }\n",
       "\n",
       "    .dataframe tbody tr th {\n",
       "        vertical-align: top;\n",
       "    }\n",
       "\n",
       "    .dataframe thead th {\n",
       "        text-align: right;\n",
       "    }\n",
       "</style>\n",
       "<table border=\"1\" class=\"dataframe\">\n",
       "  <thead>\n",
       "    <tr style=\"text-align: right;\">\n",
       "      <th></th>\n",
       "      <th>Indicator Name</th>\n",
       "      <th>Series Code</th>\n",
       "      <th>Country Name</th>\n",
       "      <th>Country Code</th>\n",
       "      <th>1995 [YR1995]</th>\n",
       "      <th>1996 [YR1996]</th>\n",
       "      <th>1997 [YR1997]</th>\n",
       "      <th>1998 [YR1998]</th>\n",
       "      <th>1999 [YR1999]</th>\n",
       "      <th>2000 [YR2000]</th>\n",
       "      <th>...</th>\n",
       "      <th>2009 [YR2009]</th>\n",
       "      <th>2010 [YR2010]</th>\n",
       "      <th>2011 [YR2011]</th>\n",
       "      <th>2012 [YR2012]</th>\n",
       "      <th>2013 [YR2013]</th>\n",
       "      <th>2014 [YR2014]</th>\n",
       "      <th>2015 [YR2015]</th>\n",
       "      <th>2016 [YR2016]</th>\n",
       "      <th>2017 [YR2017]</th>\n",
       "      <th>2018 [YR2018]</th>\n",
       "    </tr>\n",
       "  </thead>\n",
       "  <tbody>\n",
       "    <tr>\n",
       "      <th>0</th>\n",
       "      <td>Human capital (constant 2018 US$)</td>\n",
       "      <td>NW.HCA.TO</td>\n",
       "      <td>Albania</td>\n",
       "      <td>ALB</td>\n",
       "      <td>44861001530</td>\n",
       "      <td>43430547992</td>\n",
       "      <td>37131131819</td>\n",
       "      <td>38792147742</td>\n",
       "      <td>42196257452</td>\n",
       "      <td>43611277219</td>\n",
       "      <td>...</td>\n",
       "      <td>6.610924e+10</td>\n",
       "      <td>6.805651e+10</td>\n",
       "      <td>6.853525e+10</td>\n",
       "      <td>7.075229e+10</td>\n",
       "      <td>7.160031e+10</td>\n",
       "      <td>7.248767e+10</td>\n",
       "      <td>7.372787e+10</td>\n",
       "      <td>75716975793</td>\n",
       "      <td>78045555079</td>\n",
       "      <td>81214984640</td>\n",
       "    </tr>\n",
       "    <tr>\n",
       "      <th>1</th>\n",
       "      <td>Human capital (constant 2018 US$)</td>\n",
       "      <td>NW.HCA.TO</td>\n",
       "      <td>Argentina</td>\n",
       "      <td>ARG</td>\n",
       "      <td>1.37855E+12</td>\n",
       "      <td>1.40471E+12</td>\n",
       "      <td>1.55117E+12</td>\n",
       "      <td>1.7414E+12</td>\n",
       "      <td>1.79004E+12</td>\n",
       "      <td>1.84136E+12</td>\n",
       "      <td>...</td>\n",
       "      <td>2.045920e+12</td>\n",
       "      <td>2.419210e+12</td>\n",
       "      <td>2.953450e+12</td>\n",
       "      <td>2.968890e+12</td>\n",
       "      <td>3.180360e+12</td>\n",
       "      <td>3.128110e+12</td>\n",
       "      <td>3.215850e+12</td>\n",
       "      <td>3.15301E+12</td>\n",
       "      <td>3.22663E+12</td>\n",
       "      <td>3.15994E+12</td>\n",
       "    </tr>\n",
       "    <tr>\n",
       "      <th>2</th>\n",
       "      <td>Human capital (constant 2018 US$)</td>\n",
       "      <td>NW.HCA.TO</td>\n",
       "      <td>Armenia</td>\n",
       "      <td>ARM</td>\n",
       "      <td>31162180567</td>\n",
       "      <td>32446809421</td>\n",
       "      <td>32562110893</td>\n",
       "      <td>35586495233</td>\n",
       "      <td>35852007081</td>\n",
       "      <td>36048138201</td>\n",
       "      <td>...</td>\n",
       "      <td>5.795380e+10</td>\n",
       "      <td>6.083493e+10</td>\n",
       "      <td>6.729478e+10</td>\n",
       "      <td>7.026139e+10</td>\n",
       "      <td>7.214770e+10</td>\n",
       "      <td>7.320107e+10</td>\n",
       "      <td>8.011339e+10</td>\n",
       "      <td>76522388252</td>\n",
       "      <td>81504751657</td>\n",
       "      <td>84936407008</td>\n",
       "    </tr>\n",
       "    <tr>\n",
       "      <th>3</th>\n",
       "      <td>Human capital (constant 2018 US$)</td>\n",
       "      <td>NW.HCA.TO</td>\n",
       "      <td>Australia</td>\n",
       "      <td>AUS</td>\n",
       "      <td>5.65711E+12</td>\n",
       "      <td>5.91611E+12</td>\n",
       "      <td>6.03646E+12</td>\n",
       "      <td>6.26521E+12</td>\n",
       "      <td>6.43226E+12</td>\n",
       "      <td>6.58307E+12</td>\n",
       "      <td>...</td>\n",
       "      <td>8.824470e+12</td>\n",
       "      <td>9.242020e+12</td>\n",
       "      <td>9.788920e+12</td>\n",
       "      <td>1.031640e+13</td>\n",
       "      <td>1.049550e+13</td>\n",
       "      <td>1.093710e+13</td>\n",
       "      <td>1.132480e+13</td>\n",
       "      <td>1.12677E+13</td>\n",
       "      <td>1.1503E+13</td>\n",
       "      <td>1.17879E+13</td>\n",
       "    </tr>\n",
       "    <tr>\n",
       "      <th>4</th>\n",
       "      <td>Human capital (constant 2018 US$)</td>\n",
       "      <td>NW.HCA.TO</td>\n",
       "      <td>Austria</td>\n",
       "      <td>AUT</td>\n",
       "      <td>2.22685E+12</td>\n",
       "      <td>2.20598E+12</td>\n",
       "      <td>2.18531E+12</td>\n",
       "      <td>2.23164E+12</td>\n",
       "      <td>2.27984E+12</td>\n",
       "      <td>2.30108E+12</td>\n",
       "      <td>...</td>\n",
       "      <td>2.629330e+12</td>\n",
       "      <td>2.603340e+12</td>\n",
       "      <td>2.686480e+12</td>\n",
       "      <td>2.847440e+12</td>\n",
       "      <td>2.835930e+12</td>\n",
       "      <td>2.774530e+12</td>\n",
       "      <td>2.899920e+12</td>\n",
       "      <td>3.00628E+12</td>\n",
       "      <td>3.04663E+12</td>\n",
       "      <td>3.10569E+12</td>\n",
       "    </tr>\n",
       "  </tbody>\n",
       "</table>\n",
       "<p>5 rows × 28 columns</p>\n",
       "</div>"
      ],
      "text/plain": [
       "                      Indicator Name Series Code Country Name Country Code  \\\n",
       "0  Human capital (constant 2018 US$)   NW.HCA.TO      Albania          ALB   \n",
       "1  Human capital (constant 2018 US$)   NW.HCA.TO    Argentina          ARG   \n",
       "2  Human capital (constant 2018 US$)   NW.HCA.TO      Armenia          ARM   \n",
       "3  Human capital (constant 2018 US$)   NW.HCA.TO    Australia          AUS   \n",
       "4  Human capital (constant 2018 US$)   NW.HCA.TO      Austria          AUT   \n",
       "\n",
       "  1995 [YR1995] 1996 [YR1996] 1997 [YR1997] 1998 [YR1998] 1999 [YR1999]  \\\n",
       "0   44861001530   43430547992   37131131819   38792147742   42196257452   \n",
       "1   1.37855E+12   1.40471E+12   1.55117E+12    1.7414E+12   1.79004E+12   \n",
       "2   31162180567   32446809421   32562110893   35586495233   35852007081   \n",
       "3   5.65711E+12   5.91611E+12   6.03646E+12   6.26521E+12   6.43226E+12   \n",
       "4   2.22685E+12   2.20598E+12   2.18531E+12   2.23164E+12   2.27984E+12   \n",
       "\n",
       "  2000 [YR2000]  ... 2009 [YR2009] 2010 [YR2010] 2011 [YR2011] 2012 [YR2012]  \\\n",
       "0   43611277219  ...  6.610924e+10  6.805651e+10  6.853525e+10  7.075229e+10   \n",
       "1   1.84136E+12  ...  2.045920e+12  2.419210e+12  2.953450e+12  2.968890e+12   \n",
       "2   36048138201  ...  5.795380e+10  6.083493e+10  6.729478e+10  7.026139e+10   \n",
       "3   6.58307E+12  ...  8.824470e+12  9.242020e+12  9.788920e+12  1.031640e+13   \n",
       "4   2.30108E+12  ...  2.629330e+12  2.603340e+12  2.686480e+12  2.847440e+12   \n",
       "\n",
       "   2013 [YR2013]  2014 [YR2014]  2015 [YR2015]  2016 [YR2016]  2017 [YR2017]  \\\n",
       "0   7.160031e+10   7.248767e+10   7.372787e+10    75716975793    78045555079   \n",
       "1   3.180360e+12   3.128110e+12   3.215850e+12    3.15301E+12    3.22663E+12   \n",
       "2   7.214770e+10   7.320107e+10   8.011339e+10    76522388252    81504751657   \n",
       "3   1.049550e+13   1.093710e+13   1.132480e+13    1.12677E+13     1.1503E+13   \n",
       "4   2.835930e+12   2.774530e+12   2.899920e+12    3.00628E+12    3.04663E+12   \n",
       "\n",
       "   2018 [YR2018]  \n",
       "0    81214984640  \n",
       "1    3.15994E+12  \n",
       "2    84936407008  \n",
       "3    1.17879E+13  \n",
       "4    3.10569E+12  \n",
       "\n",
       "[5 rows x 28 columns]"
      ]
     },
     "execution_count": 227,
     "metadata": {},
     "output_type": "execute_result"
    }
   ],
   "source": [
    "account_data_rename_column.head()"
   ]
  },
  {
   "cell_type": "code",
   "execution_count": 228,
   "metadata": {},
   "outputs": [
    {
     "data": {
      "text/plain": [
       "Index(['Indicator Name', 'Series Code', 'Country Name', 'Country Code',\n",
       "       '1995 [YR1995]', '1996 [YR1996]', '1997 [YR1997]', '1998 [YR1998]',\n",
       "       '1999 [YR1999]', '2000 [YR2000]', '2001 [YR2001]', '2002 [YR2002]',\n",
       "       '2003 [YR2003]', '2004 [YR2004]', '2005 [YR2005]', '2006 [YR2006]',\n",
       "       '2007 [YR2007]', '2008 [YR2008]', '2009 [YR2009]', '2010 [YR2010]',\n",
       "       '2011 [YR2011]', '2012 [YR2012]', '2013 [YR2013]', '2014 [YR2014]',\n",
       "       '2015 [YR2015]', '2016 [YR2016]', '2017 [YR2017]', '2018 [YR2018]'],\n",
       "      dtype='object')"
      ]
     },
     "execution_count": 228,
     "metadata": {},
     "output_type": "execute_result"
    }
   ],
   "source": [
    "account_data_rename_column.columns"
   ]
  },
  {
   "cell_type": "code",
   "execution_count": 229,
   "metadata": {},
   "outputs": [],
   "source": [
    "account_data_clean = account_data_rename_column[['Indicator Name', 'Series Code', 'Country Name', 'Country Code', '2016 [YR2016]', '2017 [YR2017]', '2018 [YR2018]']]"
   ]
  },
  {
   "cell_type": "code",
   "execution_count": 230,
   "metadata": {},
   "outputs": [
    {
     "data": {
      "text/html": [
       "<div>\n",
       "<style scoped>\n",
       "    .dataframe tbody tr th:only-of-type {\n",
       "        vertical-align: middle;\n",
       "    }\n",
       "\n",
       "    .dataframe tbody tr th {\n",
       "        vertical-align: top;\n",
       "    }\n",
       "\n",
       "    .dataframe thead th {\n",
       "        text-align: right;\n",
       "    }\n",
       "</style>\n",
       "<table border=\"1\" class=\"dataframe\">\n",
       "  <thead>\n",
       "    <tr style=\"text-align: right;\">\n",
       "      <th></th>\n",
       "      <th>Indicator Name</th>\n",
       "      <th>Series Code</th>\n",
       "      <th>Country Name</th>\n",
       "      <th>Country Code</th>\n",
       "      <th>2016 [YR2016]</th>\n",
       "      <th>2017 [YR2017]</th>\n",
       "      <th>2018 [YR2018]</th>\n",
       "    </tr>\n",
       "  </thead>\n",
       "  <tbody>\n",
       "    <tr>\n",
       "      <th>0</th>\n",
       "      <td>Human capital (constant 2018 US$)</td>\n",
       "      <td>NW.HCA.TO</td>\n",
       "      <td>Albania</td>\n",
       "      <td>ALB</td>\n",
       "      <td>75716975793</td>\n",
       "      <td>78045555079</td>\n",
       "      <td>81214984640</td>\n",
       "    </tr>\n",
       "    <tr>\n",
       "      <th>1</th>\n",
       "      <td>Human capital (constant 2018 US$)</td>\n",
       "      <td>NW.HCA.TO</td>\n",
       "      <td>Argentina</td>\n",
       "      <td>ARG</td>\n",
       "      <td>3.15301E+12</td>\n",
       "      <td>3.22663E+12</td>\n",
       "      <td>3.15994E+12</td>\n",
       "    </tr>\n",
       "    <tr>\n",
       "      <th>2</th>\n",
       "      <td>Human capital (constant 2018 US$)</td>\n",
       "      <td>NW.HCA.TO</td>\n",
       "      <td>Armenia</td>\n",
       "      <td>ARM</td>\n",
       "      <td>76522388252</td>\n",
       "      <td>81504751657</td>\n",
       "      <td>84936407008</td>\n",
       "    </tr>\n",
       "    <tr>\n",
       "      <th>3</th>\n",
       "      <td>Human capital (constant 2018 US$)</td>\n",
       "      <td>NW.HCA.TO</td>\n",
       "      <td>Australia</td>\n",
       "      <td>AUS</td>\n",
       "      <td>1.12677E+13</td>\n",
       "      <td>1.1503E+13</td>\n",
       "      <td>1.17879E+13</td>\n",
       "    </tr>\n",
       "    <tr>\n",
       "      <th>4</th>\n",
       "      <td>Human capital (constant 2018 US$)</td>\n",
       "      <td>NW.HCA.TO</td>\n",
       "      <td>Austria</td>\n",
       "      <td>AUT</td>\n",
       "      <td>3.00628E+12</td>\n",
       "      <td>3.04663E+12</td>\n",
       "      <td>3.10569E+12</td>\n",
       "    </tr>\n",
       "  </tbody>\n",
       "</table>\n",
       "</div>"
      ],
      "text/plain": [
       "                      Indicator Name Series Code Country Name Country Code  \\\n",
       "0  Human capital (constant 2018 US$)   NW.HCA.TO      Albania          ALB   \n",
       "1  Human capital (constant 2018 US$)   NW.HCA.TO    Argentina          ARG   \n",
       "2  Human capital (constant 2018 US$)   NW.HCA.TO      Armenia          ARM   \n",
       "3  Human capital (constant 2018 US$)   NW.HCA.TO    Australia          AUS   \n",
       "4  Human capital (constant 2018 US$)   NW.HCA.TO      Austria          AUT   \n",
       "\n",
       "  2016 [YR2016] 2017 [YR2017] 2018 [YR2018]  \n",
       "0   75716975793   78045555079   81214984640  \n",
       "1   3.15301E+12   3.22663E+12   3.15994E+12  \n",
       "2   76522388252   81504751657   84936407008  \n",
       "3   1.12677E+13    1.1503E+13   1.17879E+13  \n",
       "4   3.00628E+12   3.04663E+12   3.10569E+12  "
      ]
     },
     "execution_count": 230,
     "metadata": {},
     "output_type": "execute_result"
    }
   ],
   "source": [
    "new_account_data_clean = account_data_clean.head(500)\n",
    "new_account_data_clean.head()"
   ]
  },
  {
   "cell_type": "code",
   "execution_count": 232,
   "metadata": {},
   "outputs": [],
   "source": [
    "create_table_data = '''Create table if not exists accounts_data(\n",
    "    Indicator_Name varchar(255),\n",
    "    Series_Code varchar(255),\n",
    "    Country_Name varchar(255),\n",
    "    Country_Code varchar(255),\n",
    "    year_2016 varchar(255),\n",
    "    year_2017 varchar(255),\n",
    "    year_2018 varchar(255));'''\n"
   ]
  },
  {
   "cell_type": "code",
   "execution_count": 231,
   "metadata": {},
   "outputs": [],
   "source": [
    "query = '''drop TABLE accounts_data'''\n",
    "excecute_quary(query)"
   ]
  },
  {
   "cell_type": "code",
   "execution_count": 233,
   "metadata": {},
   "outputs": [],
   "source": [
    "excecute_quary(create_table_data)"
   ]
  },
  {
   "cell_type": "code",
   "execution_count": 234,
   "metadata": {},
   "outputs": [],
   "source": [
    "## insert into account_data\n",
    "insert_data_account_data = '''insert into accounts_data(Indicator_Name, Series_Code, Country_Name, Country_Code, year_2016, year_2017, year_2018) VALUES (%s, %s, %s, %s, %s, %s, %s)'''"
   ]
  },
  {
   "cell_type": "code",
   "execution_count": 235,
   "metadata": {},
   "outputs": [],
   "source": [
    "for i, row in new_account_data_clean.iterrows():\n",
    "    insert_excecute_quary(insert_data_account_data, list(row)) "
   ]
  },
  {
   "cell_type": "code",
   "execution_count": 236,
   "metadata": {},
   "outputs": [
    {
     "name": "stdout",
     "output_type": "stream",
     "text": [
      "[('Human capital (constant 2018 US$)', 'NW.HCA.TO', 'Albania', 'ALB', '75716975793', '78045555079', '81214984640'), ('Human capital (constant 2018 US$)', 'NW.HCA.TO', 'Argentina', 'ARG', '3.15301E+12', '3.22663E+12', '3.15994E+12'), ('Human capital (constant 2018 US$)', 'NW.HCA.TO', 'Armenia', 'ARM', '76522388252', '81504751657', '84936407008'), ('Human capital (constant 2018 US$)', 'NW.HCA.TO', 'Australia', 'AUS', '1.12677E+13', '1.1503E+13', '1.17879E+13'), ('Human capital (constant 2018 US$)', 'NW.HCA.TO', 'Austria', 'AUT', '3.00628E+12', '3.04663E+12', '3.10569E+12'), ('Human capital (constant 2018 US$)', 'NW.HCA.TO', 'Azerbaijan', 'AZE', '82469321798', '83027321134', '83168555102'), ('Human capital (constant 2018 US$)', 'NW.HCA.TO', 'Bahrain', 'BHR', '1.33247E+11', '1.39538E+11', '1.43432E+11'), ('Human capital (constant 2018 US$)', 'NW.HCA.TO', 'Bangladesh', 'BGD', '1.8544E+12', '1.94772E+12', '2.08705E+12'), ('Human capital (constant 2018 US$)', 'NW.HCA.TO', 'Belarus', 'BLR', '3.75617E+11', '3.83378E+11', '3.86912E+11'), ('Human capital (constant 2018 US$)', 'NW.HCA.TO', 'Belgium', 'BEL', '3.54382E+12', '3.59602E+12', '3.63786E+12')]\n"
     ]
    }
   ],
   "source": [
    "query = '''select * from accounts_data limit 10;'''\n",
    "print(read_quary(query))"
   ]
  },
  {
   "cell_type": "code",
   "execution_count": null,
   "metadata": {},
   "outputs": [],
   "source": []
  },
  {
   "attachments": {},
   "cell_type": "markdown",
   "metadata": {},
   "source": [
    "## account_series"
   ]
  },
  {
   "cell_type": "code",
   "execution_count": 41,
   "metadata": {},
   "outputs": [],
   "source": [
    "account_series = pd.read_csv(\"wealth-accountSeries.csv\", encoding='latin-1')\n",
    "account_series_dataframe = pd.DataFrame(account_series)"
   ]
  },
  {
   "cell_type": "code",
   "execution_count": 43,
   "metadata": {},
   "outputs": [
    {
     "data": {
      "text/html": [
       "<div>\n",
       "<style scoped>\n",
       "    .dataframe tbody tr th:only-of-type {\n",
       "        vertical-align: middle;\n",
       "    }\n",
       "\n",
       "    .dataframe tbody tr th {\n",
       "        vertical-align: top;\n",
       "    }\n",
       "\n",
       "    .dataframe thead th {\n",
       "        text-align: right;\n",
       "    }\n",
       "</style>\n",
       "<table border=\"1\" class=\"dataframe\">\n",
       "  <thead>\n",
       "    <tr style=\"text-align: right;\">\n",
       "      <th></th>\n",
       "      <th>ï»¿Code</th>\n",
       "      <th>Indicator Name</th>\n",
       "      <th>Long definition</th>\n",
       "      <th>Source</th>\n",
       "      <th>Topic</th>\n",
       "      <th>Unit of measure</th>\n",
       "      <th>Periodicity</th>\n",
       "      <th>Reference period</th>\n",
       "      <th>Statistical concept and methodology</th>\n",
       "      <th>Previous Indicator Code</th>\n",
       "      <th>Previous Indicator Name</th>\n",
       "    </tr>\n",
       "  </thead>\n",
       "  <tbody>\n",
       "    <tr>\n",
       "      <th>0</th>\n",
       "      <td>NW.HCA.TO</td>\n",
       "      <td>Human capital (constant 2018 US$)</td>\n",
       "      <td>Human capital is computed as the present value...</td>\n",
       "      <td>World Bank. 2021. The Changing Wealth of Natio...</td>\n",
       "      <td>Human capital</td>\n",
       "      <td>Constant 2018 US$</td>\n",
       "      <td>Annual</td>\n",
       "      <td>1995-2018</td>\n",
       "      <td>Total wealth is calculated by summing up estim...</td>\n",
       "      <td>NaN</td>\n",
       "      <td>NaN</td>\n",
       "    </tr>\n",
       "    <tr>\n",
       "      <th>1</th>\n",
       "      <td>NW.HCA.PC</td>\n",
       "      <td>Human capital per capita (constant 2018 US$)</td>\n",
       "      <td>Human capital is computed as the present value...</td>\n",
       "      <td>World Bank. 2021. The Changing Wealth of Natio...</td>\n",
       "      <td>Human capital</td>\n",
       "      <td>Constant 2018 US$</td>\n",
       "      <td>Annual</td>\n",
       "      <td>1995-2018</td>\n",
       "      <td>Total wealth is calculated by summing up estim...</td>\n",
       "      <td>NaN</td>\n",
       "      <td>NaN</td>\n",
       "    </tr>\n",
       "    <tr>\n",
       "      <th>2</th>\n",
       "      <td>NW.HCA.FEMP.PC</td>\n",
       "      <td>Human capital per capita, employed female (con...</td>\n",
       "      <td>Human capital is computed as the present value...</td>\n",
       "      <td>World Bank. 2021. The Changing Wealth of Natio...</td>\n",
       "      <td>Human capital</td>\n",
       "      <td>Constant 2018 US$</td>\n",
       "      <td>Annual</td>\n",
       "      <td>1995-2018</td>\n",
       "      <td>Total wealth is calculated by summing up estim...</td>\n",
       "      <td>NaN</td>\n",
       "      <td>NaN</td>\n",
       "    </tr>\n",
       "    <tr>\n",
       "      <th>3</th>\n",
       "      <td>NW.HCA.MEMP.PC</td>\n",
       "      <td>Human capital per capita, employed male (const...</td>\n",
       "      <td>Human capital is computed as the present value...</td>\n",
       "      <td>World Bank. 2021. The Changing Wealth of Natio...</td>\n",
       "      <td>Human capital</td>\n",
       "      <td>Constant 2018 US$</td>\n",
       "      <td>Annual</td>\n",
       "      <td>1995-2018</td>\n",
       "      <td>Total wealth is calculated by summing up estim...</td>\n",
       "      <td>NaN</td>\n",
       "      <td>NaN</td>\n",
       "    </tr>\n",
       "    <tr>\n",
       "      <th>4</th>\n",
       "      <td>NW.HCA.FEMA.PC</td>\n",
       "      <td>Human capital per capita, female (constant 201...</td>\n",
       "      <td>Human capital is computed as the present value...</td>\n",
       "      <td>World Bank. 2021. The Changing Wealth of Natio...</td>\n",
       "      <td>Human capital</td>\n",
       "      <td>Constant 2018 US$</td>\n",
       "      <td>Annual</td>\n",
       "      <td>1995-2018</td>\n",
       "      <td>Total wealth is calculated by summing up estim...</td>\n",
       "      <td>NaN</td>\n",
       "      <td>NaN</td>\n",
       "    </tr>\n",
       "  </tbody>\n",
       "</table>\n",
       "</div>"
      ],
      "text/plain": [
       "          ï»¿Code                                     Indicator Name  \\\n",
       "0       NW.HCA.TO                  Human capital (constant 2018 US$)   \n",
       "1       NW.HCA.PC       Human capital per capita (constant 2018 US$)   \n",
       "2  NW.HCA.FEMP.PC  Human capital per capita, employed female (con...   \n",
       "3  NW.HCA.MEMP.PC  Human capital per capita, employed male (const...   \n",
       "4  NW.HCA.FEMA.PC  Human capital per capita, female (constant 201...   \n",
       "\n",
       "                                     Long definition  \\\n",
       "0  Human capital is computed as the present value...   \n",
       "1  Human capital is computed as the present value...   \n",
       "2  Human capital is computed as the present value...   \n",
       "3  Human capital is computed as the present value...   \n",
       "4  Human capital is computed as the present value...   \n",
       "\n",
       "                                              Source          Topic  \\\n",
       "0  World Bank. 2021. The Changing Wealth of Natio...  Human capital   \n",
       "1  World Bank. 2021. The Changing Wealth of Natio...  Human capital   \n",
       "2  World Bank. 2021. The Changing Wealth of Natio...  Human capital   \n",
       "3  World Bank. 2021. The Changing Wealth of Natio...  Human capital   \n",
       "4  World Bank. 2021. The Changing Wealth of Natio...  Human capital   \n",
       "\n",
       "     Unit of measure Periodicity Reference period  \\\n",
       "0  Constant 2018 US$      Annual        1995-2018   \n",
       "1  Constant 2018 US$      Annual        1995-2018   \n",
       "2  Constant 2018 US$      Annual        1995-2018   \n",
       "3  Constant 2018 US$      Annual        1995-2018   \n",
       "4  Constant 2018 US$      Annual        1995-2018   \n",
       "\n",
       "                 Statistical concept and methodology Previous Indicator Code  \\\n",
       "0  Total wealth is calculated by summing up estim...                     NaN   \n",
       "1  Total wealth is calculated by summing up estim...                     NaN   \n",
       "2  Total wealth is calculated by summing up estim...                     NaN   \n",
       "3  Total wealth is calculated by summing up estim...                     NaN   \n",
       "4  Total wealth is calculated by summing up estim...                     NaN   \n",
       "\n",
       "  Previous Indicator Name  \n",
       "0                     NaN  \n",
       "1                     NaN  \n",
       "2                     NaN  \n",
       "3                     NaN  \n",
       "4                     NaN  "
      ]
     },
     "execution_count": 43,
     "metadata": {},
     "output_type": "execute_result"
    }
   ],
   "source": [
    "account_series_dataframe.head()"
   ]
  },
  {
   "cell_type": "code",
   "execution_count": 46,
   "metadata": {},
   "outputs": [
    {
     "data": {
      "text/plain": [
       "Index(['ï»¿Code', 'Indicator Name', 'Long definition', 'Source', 'Topic',\n",
       "       'Unit of measure', 'Periodicity', 'Reference period',\n",
       "       'Statistical concept and methodology', 'Previous Indicator Code',\n",
       "       'Previous Indicator Name'],\n",
       "      dtype='object')"
      ]
     },
     "execution_count": 46,
     "metadata": {},
     "output_type": "execute_result"
    }
   ],
   "source": [
    "account_series.columns\n"
   ]
  },
  {
   "cell_type": "code",
   "execution_count": 52,
   "metadata": {},
   "outputs": [],
   "source": [
    "account_series_rename_column = account_series.rename(columns={'ï»¿Code': 'Series Code'})"
   ]
  },
  {
   "cell_type": "code",
   "execution_count": 53,
   "metadata": {},
   "outputs": [
    {
     "data": {
      "text/plain": [
       "Index(['Series Code', 'Indicator Name', 'Long definition', 'Source', 'Topic',\n",
       "       'Unit of measure', 'Periodicity', 'Reference period',\n",
       "       'Statistical concept and methodology', 'Previous Indicator Code',\n",
       "       'Previous Indicator Name'],\n",
       "      dtype='object')"
      ]
     },
     "execution_count": 53,
     "metadata": {},
     "output_type": "execute_result"
    }
   ],
   "source": [
    "account_series_rename_column.columns"
   ]
  },
  {
   "cell_type": "code",
   "execution_count": 58,
   "metadata": {},
   "outputs": [],
   "source": [
    "\n",
    "account_series_clean = account_series_rename_column[['Topic', 'Indicator Name', 'Series Code', 'Long definition']]\n"
   ]
  },
  {
   "cell_type": "code",
   "execution_count": 213,
   "metadata": {},
   "outputs": [
    {
     "data": {
      "text/html": [
       "<div>\n",
       "<style scoped>\n",
       "    .dataframe tbody tr th:only-of-type {\n",
       "        vertical-align: middle;\n",
       "    }\n",
       "\n",
       "    .dataframe tbody tr th {\n",
       "        vertical-align: top;\n",
       "    }\n",
       "\n",
       "    .dataframe thead th {\n",
       "        text-align: right;\n",
       "    }\n",
       "</style>\n",
       "<table border=\"1\" class=\"dataframe\">\n",
       "  <thead>\n",
       "    <tr style=\"text-align: right;\">\n",
       "      <th></th>\n",
       "      <th>Topic</th>\n",
       "      <th>Indicator Name</th>\n",
       "      <th>Series Code</th>\n",
       "      <th>Long definition</th>\n",
       "    </tr>\n",
       "  </thead>\n",
       "  <tbody>\n",
       "    <tr>\n",
       "      <th>0</th>\n",
       "      <td>Human capital</td>\n",
       "      <td>Human capital (constant 2018 US$)</td>\n",
       "      <td>NW.HCA.TO</td>\n",
       "      <td>Human capital is computed as the present value...</td>\n",
       "    </tr>\n",
       "    <tr>\n",
       "      <th>1</th>\n",
       "      <td>Human capital</td>\n",
       "      <td>Human capital per capita (constant 2018 US$)</td>\n",
       "      <td>NW.HCA.PC</td>\n",
       "      <td>Human capital is computed as the present value...</td>\n",
       "    </tr>\n",
       "    <tr>\n",
       "      <th>2</th>\n",
       "      <td>Human capital</td>\n",
       "      <td>Human capital per capita, employed female (con...</td>\n",
       "      <td>NW.HCA.FEMP.PC</td>\n",
       "      <td>Human capital is computed as the present value...</td>\n",
       "    </tr>\n",
       "    <tr>\n",
       "      <th>3</th>\n",
       "      <td>Human capital</td>\n",
       "      <td>Human capital per capita, employed male (const...</td>\n",
       "      <td>NW.HCA.MEMP.PC</td>\n",
       "      <td>Human capital is computed as the present value...</td>\n",
       "    </tr>\n",
       "    <tr>\n",
       "      <th>4</th>\n",
       "      <td>Human capital</td>\n",
       "      <td>Human capital per capita, female (constant 201...</td>\n",
       "      <td>NW.HCA.FEMA.PC</td>\n",
       "      <td>Human capital is computed as the present value...</td>\n",
       "    </tr>\n",
       "  </tbody>\n",
       "</table>\n",
       "</div>"
      ],
      "text/plain": [
       "           Topic                                     Indicator Name  \\\n",
       "0  Human capital                  Human capital (constant 2018 US$)   \n",
       "1  Human capital       Human capital per capita (constant 2018 US$)   \n",
       "2  Human capital  Human capital per capita, employed female (con...   \n",
       "3  Human capital  Human capital per capita, employed male (const...   \n",
       "4  Human capital  Human capital per capita, female (constant 201...   \n",
       "\n",
       "      Series Code                                    Long definition  \n",
       "0       NW.HCA.TO  Human capital is computed as the present value...  \n",
       "1       NW.HCA.PC  Human capital is computed as the present value...  \n",
       "2  NW.HCA.FEMP.PC  Human capital is computed as the present value...  \n",
       "3  NW.HCA.MEMP.PC  Human capital is computed as the present value...  \n",
       "4  NW.HCA.FEMA.PC  Human capital is computed as the present value...  "
      ]
     },
     "execution_count": 213,
     "metadata": {},
     "output_type": "execute_result"
    }
   ],
   "source": [
    "account_series_clean.head()"
   ]
  },
  {
   "cell_type": "code",
   "execution_count": 178,
   "metadata": {},
   "outputs": [],
   "source": [
    "create_table_series = '''Create table if not exists accounts_series(\n",
    "    Topic varchar(255),\n",
    "    Indicator_Name varchar(255),\n",
    "    Series_Code\t varchar(255),\n",
    "    Long_definition LONGTEXT)'''\n",
    "\n"
   ]
  },
  {
   "cell_type": "code",
   "execution_count": 177,
   "metadata": {},
   "outputs": [],
   "source": [
    "# query = '''drop TABLE accounts_series'''\n",
    "# excecute_quary(query)"
   ]
  },
  {
   "cell_type": "code",
   "execution_count": 179,
   "metadata": {},
   "outputs": [],
   "source": [
    "excecute_quary(create_table_series)"
   ]
  },
  {
   "cell_type": "code",
   "execution_count": 214,
   "metadata": {},
   "outputs": [],
   "source": [
    "insert_data_account_series = '''insert into accounts_series(Topic, Indicator_Name, Series_Code, Long_definition) VALUES (%s, %s, %s, %s)'''"
   ]
  },
  {
   "cell_type": "code",
   "execution_count": 215,
   "metadata": {},
   "outputs": [],
   "source": [
    "for i, row in account_series_clean.iterrows():\n",
    "    insert_excecute_quary(insert_data_account_series, list(row)) "
   ]
  },
  {
   "cell_type": "code",
   "execution_count": 216,
   "metadata": {},
   "outputs": [
    {
     "name": "stdout",
     "output_type": "stream",
     "text": [
      "[('Human capital', 'Human capital (constant 2018 US$)', 'NW.HCA.TO', 'Human capital is computed as the present value of future earnings for the working population over their lifetimes.  Values are measured at market exchange rates in constant 2018 US dollars, using a country-specific GDP deflator.'), ('Human capital', 'Human capital per capita (constant 2018 US$)', 'NW.HCA.PC', 'Human capital is computed as the present value of future earnings for the working population over their lifetimes.  Values are measured at market exchange rates in constant 2018 US dollars, using a country-specific GDP deflator.'), ('Human capital', 'Human capital per capita, employed female (constant 2018 US$)', 'NW.HCA.FEMP.PC', 'Human capital is computed as the present value of future earnings for the working population over their lifetimes.  Values are measured at market exchange rates in constant 2018 US dollars, using a country-specific GDP deflator.'), ('Human capital', 'Human capital per capita, employed male (constant 2018 US$)', 'NW.HCA.MEMP.PC', 'Human capital is computed as the present value of future earnings for the working population over their lifetimes.  Values are measured at market exchange rates in constant 2018 US dollars, using a country-specific GDP deflator.'), ('Human capital', 'Human capital per capita, female (constant 2018 US$)', 'NW.HCA.FEMA.PC', 'Human capital is computed as the present value of future earnings for the working population over their lifetimes.  Values are measured at market exchange rates in constant 2018 US dollars, using a country-specific GDP deflator.'), ('Human capital', 'Human capital per capita, male (constant 2018 US$)', 'NW.HCA.MALE.PC', 'Human capital is computed as the present value of future earnings for the working population over their lifetimes.  Values are measured at market exchange rates in constant 2018 US dollars, using a country-specific GDP deflator.'), ('Human capital', 'Human capital per capita, self-employed female (constant 2018 US$)', 'NW.HCA.FSEM.PC', 'Human capital is computed as the present value of future earnings for the working population over their lifetimes.  Values are measured at market exchange rates in constant 2018 US dollars, using a country-specific GDP deflator.'), ('Human capital', 'Human capital per capita, self-employed male (constant 2018 US$)', 'NW.HCA.MSEM.PC', 'Human capital is computed as the present value of future earnings for the working population over their lifetimes.  Values are measured at market exchange rates in constant 2018 US dollars, using a country-specific GDP deflator.'), ('Human capital', 'Human capital, employed female (constant 2018 US$)', 'NW.HCA.FEMP.TO', 'Human capital is computed as the present value of future earnings for the working population over their lifetimes.  Values are measured at market exchange rates in constant 2018 US dollars, using a country-specific GDP deflator.'), ('Human capital', 'Human capital, employed male (constant 2018 US$)', 'NW.HCA.MEMP.TO', 'Human capital is computed as the present value of future earnings for the working population over their lifetimes.  Values are measured at market exchange rates in constant 2018 US dollars, using a country-specific GDP deflator.')]\n"
     ]
    }
   ],
   "source": [
    "query = '''select * from accounts_series limit 10'''\n",
    "print(read_quary(query))"
   ]
  },
  {
   "cell_type": "code",
   "execution_count": 217,
   "metadata": {},
   "outputs": [
    {
     "name": "stdout",
     "output_type": "stream",
     "text": [
      "[(104,)]\n"
     ]
    }
   ],
   "source": [
    "query = '''select count(*) from accounts_series'''\n",
    "print(read_quary(query))"
   ]
  },
  {
   "cell_type": "code",
   "execution_count": 100,
   "metadata": {},
   "outputs": [
    {
     "name": "stdout",
     "output_type": "stream",
     "text": [
      "[('accounts_country',), ('accounts_data',), ('accounts_series',), ('student_details',), ('student_info',)]\n"
     ]
    }
   ],
   "source": [
    "## view tables\n",
    "query = '''show tables'''\n",
    "print(read_quary(query))"
   ]
  }
 ],
 "metadata": {
  "kernelspec": {
   "display_name": "Python 3",
   "language": "python",
   "name": "python3"
  },
  "language_info": {
   "codemirror_mode": {
    "name": "ipython",
    "version": 3
   },
   "file_extension": ".py",
   "mimetype": "text/x-python",
   "name": "python",
   "nbconvert_exporter": "python",
   "pygments_lexer": "ipython3",
   "version": "3.8.10"
  },
  "orig_nbformat": 4,
  "vscode": {
   "interpreter": {
    "hash": "e7370f93d1d0cde622a1f8e1c04877d8463912d04d973331ad4851f04de6915a"
   }
  }
 },
 "nbformat": 4,
 "nbformat_minor": 2
}
